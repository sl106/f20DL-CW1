{
 "cells": [
  {
   "cell_type": "code",
   "execution_count": 1,
   "metadata": {},
   "outputs": [],
   "source": [
    "import pandas as pd\n",
    "\n",
    "import matplotlib.pyplot as plt"
   ]
  },
  {
   "cell_type": "code",
   "execution_count": 2,
   "metadata": {},
   "outputs": [],
   "source": [
    "x = pd.read_csv('/Users/Hookay/Desktop/Road signs/x_train_gr_smpl.csv')"
   ]
  },
  {
   "cell_type": "code",
   "execution_count": 3,
   "metadata": {},
   "outputs": [],
   "source": [
    "y=pd.read_csv('/Users/Hookay/Desktop/Road signs/y_train_smpl.csv')"
   ]
  },
  {
   "cell_type": "code",
   "execution_count": 4,
   "metadata": {},
   "outputs": [],
   "source": [
    "\n",
    "# def split_train_test(data, test_ratio):\n",
    "#      shuffled_indices = np.random.permutation(len(data))\n",
    "#      test_set_size = int(len(data) * test_ratio)\n",
    "#      test_indices = shuffled_indices[:test_set_size]\n",
    "#      train_indices = shuffled_indices[test_set_size:]\n",
    "#      return data.iloc[train_indices], data.iloc[test_indices]\n",
    "\n",
    "from sklearn.model_selection import train_test_split\n",
    "x_train, x_test, y_train, y_test = train_test_split(x,y,test_size=0.2)"
   ]
  },
  {
   "cell_type": "code",
   "execution_count": 5,
   "metadata": {},
   "outputs": [],
   "source": [
    "from sklearn.naive_bayes import GaussianNB"
   ]
  },
  {
   "cell_type": "code",
   "execution_count": 6,
   "metadata": {},
   "outputs": [],
   "source": [
    "gnb = GaussianNB()"
   ]
  },
  {
   "cell_type": "code",
   "execution_count": 7,
   "metadata": {},
   "outputs": [],
   "source": [
    "from sklearn.naive_bayes import MultinomialNB"
   ]
  },
  {
   "cell_type": "code",
   "execution_count": 9,
   "metadata": {},
   "outputs": [],
   "source": [
    "import numpy as np\n",
    "#  it asked me to make a row from the column vector\n",
    "y_train = np.ravel(y_train)\n",
    "\n",
    "model = MultinomialNB().fit(x_train, y_train)"
   ]
  },
  {
   "cell_type": "code",
   "execution_count": 11,
   "metadata": {},
   "outputs": [],
   "source": [
    "predicted = model.predict(x_test)"
   ]
  },
  {
   "cell_type": "code",
   "execution_count": 12,
   "metadata": {},
   "outputs": [
    {
     "name": "stdout",
     "output_type": "stream",
     "text": [
      "[[ 11   6  11   7   4   0   0   0   0   1]\n",
      " [ 99  70  85  64  95   2   8   1   4  18]\n",
      " [ 30  31 153  71 183   7   4   0   2  10]\n",
      " [ 19  24  35 106  78   0   1   0   1   0]\n",
      " [ 16  22  23  64 231   1   3   0   1   7]\n",
      " [  0   0   2   0   0  30   0   1   6   2]\n",
      " [  0   2   0   6   2  24  10   5   8   1]\n",
      " [  0   0   0   7   0  23   4  18   2   3]\n",
      " [  1   0   2   5   0  45  16  14  30   0]\n",
      " [  0   3   4   6   3  19   1   6   1  17]]\n"
     ]
    }
   ],
   "source": [
    "from sklearn.metrics import confusion_matrix\n",
    "# this is for the multinomial\n",
    "print(confusion_matrix(y_test, predicted))"
   ]
  },
  {
   "cell_type": "code",
   "execution_count": 17,
   "metadata": {},
   "outputs": [
    {
     "data": {
      "text/plain": [
       "GaussianNB()"
      ]
     },
     "execution_count": 17,
     "metadata": {},
     "output_type": "execute_result"
    }
   ],
   "source": [
    "gnb.fit(x_train, y_train)"
   ]
  },
  {
   "cell_type": "code",
   "execution_count": 18,
   "metadata": {},
   "outputs": [],
   "source": [
    "y_pred = gnb.predict(x_test)"
   ]
  },
  {
   "cell_type": "code",
   "execution_count": 19,
   "metadata": {},
   "outputs": [
    {
     "name": "stdout",
     "output_type": "stream",
     "text": [
      "Accuracy: 0.22961816305469557\n"
     ]
    }
   ],
   "source": [
    "# this is for the gaussian\n",
    "from sklearn import metrics\n",
    "print(\"Accuracy:\",metrics.accuracy_score(y_test, y_pred))"
   ]
  },
  {
   "cell_type": "code",
   "execution_count": 20,
   "metadata": {},
   "outputs": [
    {
     "name": "stdout",
     "output_type": "stream",
     "text": [
      "[[ 28   3   4   4   1   0   0   0   0   0]\n",
      " [100  90  52  21  29   7  57  78   3   9]\n",
      " [ 26  87  80  43  64  16  77  82   0  16]\n",
      " [  6   8   5  63   8   5 156   9   1   3]\n",
      " [  7  42  30  20  55   6 172  33   0   3]\n",
      " [  1   1   2   0   0  11  11  13   2   0]\n",
      " [  0   1   0   2   0   1  34  11   0   9]\n",
      " [  1   0   0   3   0   0  11  37   1   4]\n",
      " [  4   7   7   0   0   6  26  30  31   2]\n",
      " [  0   2   0   0   0   1   4  35   2  16]]\n"
     ]
    }
   ],
   "source": [
    "# this is for the gaussian\n",
    "print(confusion_matrix(y_test, y_pred))"
   ]
  },
  {
   "cell_type": "code",
   "execution_count": 21,
   "metadata": {},
   "outputs": [
    {
     "name": "stdout",
     "output_type": "stream",
     "text": [
      "Accuracy: 0.34881320949432404\n"
     ]
    }
   ],
   "source": [
    "# this is for the multinomial\n",
    "from sklearn import metrics\n",
    "print(\"Accuracy:\",metrics.accuracy_score(y_test, predicted ))"
   ]
  },
  {
   "cell_type": "code",
   "execution_count": 22,
   "metadata": {},
   "outputs": [],
   "source": [
    "from sklearn.metrics import precision_score\n",
    "from sklearn.metrics import recall_score"
   ]
  },
  {
   "cell_type": "code",
   "execution_count": 24,
   "metadata": {},
   "outputs": [
    {
     "data": {
      "text/plain": [
       "((7752,), (1938, 1))"
      ]
     },
     "execution_count": 24,
     "metadata": {},
     "output_type": "execute_result"
    }
   ],
   "source": [
    "y_train.shape,y_test.shape\n"
   ]
  },
  {
   "cell_type": "code",
   "execution_count": null,
   "metadata": {},
   "outputs": [],
   "source": []
  }
 ],
 "metadata": {
  "kernelspec": {
   "display_name": "Python 3",
   "language": "python",
   "name": "python3"
  },
  "language_info": {
   "codemirror_mode": {
    "name": "ipython",
    "version": 3
   },
   "file_extension": ".py",
   "mimetype": "text/x-python",
   "name": "python",
   "nbconvert_exporter": "python",
   "pygments_lexer": "ipython3",
   "version": "3.8.5"
  }
 },
 "nbformat": 4,
 "nbformat_minor": 4
}
