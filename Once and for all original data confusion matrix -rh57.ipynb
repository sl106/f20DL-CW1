{
 "cells": [
  {
   "cell_type": "code",
   "execution_count": 94,
   "metadata": {},
   "outputs": [],
   "source": [
    "import pandas as pd\n",
    "import numpy as np\n",
    "# to make this notebook's output stable across runs. \n",
    "np.random.seed(42)"
   ]
  },
  {
   "cell_type": "code",
   "execution_count": 95,
   "metadata": {},
   "outputs": [],
   "source": [
    "X = pd.read_csv(\"/Users/Hookay/Desktop/Weka/Road signs/dataprep/Python/x_train_gr_smpl.csv\")"
   ]
  },
  {
   "cell_type": "code",
   "execution_count": 96,
   "metadata": {},
   "outputs": [],
   "source": [
    "Y = pd.read_csv(\"/Users/Hookay/Desktop/Weka/Road signs/dataprep/Python/y_train_smpl.csv\")"
   ]
  },
  {
   "cell_type": "code",
   "execution_count": 97,
   "metadata": {},
   "outputs": [],
   "source": [
    "Y=np.ravel(Y)"
   ]
  },
  {
   "cell_type": "code",
   "execution_count": 98,
   "metadata": {},
   "outputs": [
    {
     "data": {
      "text/plain": [
       "(9690,)"
      ]
     },
     "execution_count": 98,
     "metadata": {},
     "output_type": "execute_result"
    }
   ],
   "source": [
    "Y.shape"
   ]
  },
  {
   "cell_type": "code",
   "execution_count": 99,
   "metadata": {},
   "outputs": [],
   "source": [
    "from scipy.sparse import coo_matrix\n",
    "coo_X = coo_matrix(X)"
   ]
  },
  {
   "cell_type": "code",
   "execution_count": 100,
   "metadata": {},
   "outputs": [],
   "source": [
    "from sklearn.utils import shuffle\n",
    "#X_sparse to keep track of position and data\n",
    "X, coo_X, Y = shuffle(X, coo_X, Y, random_state=0)"
   ]
  },
  {
   "cell_type": "code",
   "execution_count": 119,
   "metadata": {},
   "outputs": [],
   "source": [
    "from sklearn.model_selection import train_test_split\n",
    "X_train, X_test, y_train, y_test = train_test_split(X, Y, test_size=.35, random_state=42)"
   ]
  },
  {
   "cell_type": "code",
   "execution_count": 120,
   "metadata": {},
   "outputs": [],
   "source": [
    "y_expect = y_test"
   ]
  },
  {
   "cell_type": "code",
   "execution_count": 121,
   "metadata": {},
   "outputs": [
    {
     "name": "stdout",
     "output_type": "stream",
     "text": [
      "Accuracy: 0.36202830188679247\n"
     ]
    }
   ],
   "source": [
    "y_train=np.ravel(y_train)\n",
    "from sklearn.naive_bayes import MultinomialNB\n",
    "MultiNB = MultinomialNB()\n",
    "MultiNB.fit(X_train, y_train)\n",
    "y_pred = MultiNB.predict(X_test)\n",
    "# ACCURACY\n",
    "from sklearn import metrics\n",
    "print(\"Accuracy:\",metrics.accuracy_score(y_expect, y_pred))"
   ]
  },
  {
   "cell_type": "code",
   "execution_count": 122,
   "metadata": {},
   "outputs": [
    {
     "name": "stdout",
     "output_type": "stream",
     "text": [
      "Recall: [0.45205479 0.16496164 0.30051151 0.42332613 0.63776224 0.75862069\n",
      " 0.03100775 0.50632911 0.24873096 0.23529412]\n"
     ]
    }
   ],
   "source": [
    "# Recall\n",
    "from sklearn.metrics import recall_score\n",
    "print(\"Recall:\",recall_score(y_expect, y_pred, average=None))"
   ]
  },
  {
   "cell_type": "code",
   "execution_count": 123,
   "metadata": {},
   "outputs": [
    {
     "name": "stdout",
     "output_type": "stream",
     "text": [
      "Precision: [0.10963455 0.43581081 0.46534653 0.32885906 0.41044104 0.31279621\n",
      " 0.05063291 0.33613445 0.56976744 0.22727273]\n"
     ]
    }
   ],
   "source": [
    "# Precision\n",
    "from sklearn.metrics import precision_score\n",
    "print(\"Precision:\",precision_score(y_expect, y_pred, average=None))"
   ]
  },
  {
   "cell_type": "code",
   "execution_count": 124,
   "metadata": {},
   "outputs": [
    {
     "name": "stdout",
     "output_type": "stream",
     "text": [
      "[[ 33   8  17   9   5   0   1   0   0   0]\n",
      " [167 129 121 104 209   1  28   5   6  12]\n",
      " [ 51  61 235  99 304   2  12   5   1  12]\n",
      " [ 32  38  62 196 129   0   2   0   1   3]\n",
      " [ 17  55  42 116 456   0  16   0   0  13]\n",
      " [  0   0   6   0   0  66   0   3  10   2]\n",
      " [  0   1   4  38   1  36   4  24  15   6]\n",
      " [  0   0   0  11   1  17   1  40   3   6]\n",
      " [  1   0   3  11   2  66  15  36  49  14]\n",
      " [  0   4  15  12   4  23   0   6   1  20]]\n"
     ]
    }
   ],
   "source": [
    "# CONFUSION MATRIX\n",
    "from sklearn.metrics import confusion_matrix\n",
    "# this is for the multinomial\n",
    "print(confusion_matrix(y_expect, y_pred))"
   ]
  },
  {
   "cell_type": "code",
   "execution_count": 125,
   "metadata": {},
   "outputs": [
    {
     "name": "stdout",
     "output_type": "stream",
     "text": [
      "\n",
      " [0, 1, 2, 3, 4, 5, 6, 7, 8, 9]\n"
     ]
    },
    {
     "data": {
      "image/png": "[encoded data removed]",
      "text/plain": [
       "<Figure size 864x216 with 6 Axes>"
      ]
     },
     "metadata": {
      "needs_background": "light"
     },
     "output_type": "display_data"
    }
   ],
   "source": [
    "import matplotlib.pyplot as plt\n",
    "from sklearn.metrics import precision_score\n",
    "from sklearn.metrics import recall_score\n",
    "cmx= confusion_matrix(y_expect, y_pred)\n",
    "from mpl_toolkits.axes_grid1 import make_axes_locatable\n",
    " \n",
    "def plot_confusion_matrix(cmx, vmax1=None, vmax2=None, vmax3=None):\n",
    "    cmx_norm = 100*cmx / cmx.sum(axis=1, keepdims=True)\n",
    "    cmx_zero_diag = cmx_norm.copy()\n",
    " \n",
    "    np.fill_diagonal(cmx_zero_diag, 0)\n",
    " \n",
    "    fig, ax = plt.subplots(ncols=3)\n",
    "    fig.set_size_inches(12, 3)\n",
    "    [a.set_xticks(range(6)) for a in ax]\n",
    "    [a.set_yticks(range(6)) for a in ax]\n",
    " \n",
    "    im1 = ax[0].imshow(cmx, vmax=vmax1)\n",
    "    ax[0].set_title('as is')\n",
    "    im2 = ax[1].imshow(cmx_norm, vmax=vmax2)\n",
    "    ax[1].set_title('%')\n",
    "    im3 = ax[2].imshow(cmx_zero_diag, vmax=vmax3)\n",
    "    ax[2].set_title('% and 0 diagonal')\n",
    " \n",
    "    dividers = [make_axes_locatable(a) for a in ax]\n",
    "    cax1, cax2, cax3 = [divider.append_axes(\"right\", size=\"5%\", pad=0.1)\n",
    "                        for divider in dividers]\n",
    " \n",
    "    fig.colorbar(im1, cax=cax1)\n",
    "    fig.colorbar(im2, cax=cax2)\n",
    "    fig.colorbar(im3, cax=cax3)\n",
    "    fig.tight_layout()\n",
    " \n",
    "plot_confusion_matrix(cmx)\n",
    " \n",
    "# the types appear in this order\n",
    "print('\\n', sorted(np.unique(y_expect)))"
   ]
  },
  {
   "cell_type": "code",
   "execution_count": 126,
   "metadata": {},
   "outputs": [
    {
     "name": "stdout",
     "output_type": "stream",
     "text": [
      "Accuracy: 0.23054245283018868\n"
     ]
    }
   ],
   "source": [
    "from sklearn.metrics import accuracy_score\n",
    "from sklearn.naive_bayes import BernoulliNB\n",
    "# run NB - BernoulliNB\n",
    "BernNB = BernoulliNB(binarize=True)\n",
    "BernNB.fit(X_train, y_train)\n",
    "\n",
    "y_expect = y_test\n",
    "y_predB = BernNB.predict(X_test)\n",
    "print(\"Accuracy:\",accuracy_score(y_expect, y_predB))"
   ]
  },
  {
   "cell_type": "code",
   "execution_count": 127,
   "metadata": {},
   "outputs": [
    {
     "name": "stdout",
     "output_type": "stream",
     "text": [
      "Recall: [0. 0. 1. 0. 0. 0. 0. 0. 0. 0.]\n"
     ]
    }
   ],
   "source": [
    "# Recall\n",
    "from sklearn.metrics import recall_score\n",
    "print(\"Recall:\",recall_score(y_expect, y_predB, average=None))"
   ]
  },
  {
   "cell_type": "code",
   "execution_count": 128,
   "metadata": {},
   "outputs": [
    {
     "name": "stdout",
     "output_type": "stream",
     "text": [
      "Precision: [0.         0.         0.23054245 0.         0.         0.\n",
      " 0.         0.         0.         0.        ]\n"
     ]
    },
    {
     "name": "stderr",
     "output_type": "stream",
     "text": [
      "/Users/Hookay/opt/anaconda3/envs/F21DL/lib/python3.8/site-packages/sklearn/metrics/_classification.py:1221: UndefinedMetricWarning: Precision is ill-defined and being set to 0.0 in labels with no predicted samples. Use `zero_division` parameter to control this behavior.\n",
      "  _warn_prf(average, modifier, msg_start, len(result))\n"
     ]
    }
   ],
   "source": [
    "# Precision\n",
    "from sklearn.metrics import precision_score\n",
    "print(\"Precision:\",precision_score(y_expect, y_predB, average=None))"
   ]
  },
  {
   "cell_type": "code",
   "execution_count": 129,
   "metadata": {},
   "outputs": [
    {
     "name": "stdout",
     "output_type": "stream",
     "text": [
      "[[  0   0  73   0   0   0   0   0   0   0]\n",
      " [  0   0 782   0   0   0   0   0   0   0]\n",
      " [  0   0 782   0   0   0   0   0   0   0]\n",
      " [  0   0 463   0   0   0   0   0   0   0]\n",
      " [  0   0 715   0   0   0   0   0   0   0]\n",
      " [  0   0  87   0   0   0   0   0   0   0]\n",
      " [  0   0 129   0   0   0   0   0   0   0]\n",
      " [  0   0  79   0   0   0   0   0   0   0]\n",
      " [  0   0 197   0   0   0   0   0   0   0]\n",
      " [  0   0  85   0   0   0   0   0   0   0]]\n"
     ]
    }
   ],
   "source": [
    "# confusion matrix\n",
    "from sklearn.metrics import confusion_matrix\n",
    "print(confusion_matrix(y_expect, y_predB))"
   ]
  },
  {
   "cell_type": "code",
   "execution_count": 130,
   "metadata": {
    "scrolled": true
   },
   "outputs": [
    {
     "name": "stdout",
     "output_type": "stream",
     "text": [
      "\n",
      " [0, 1, 2, 3, 4, 5, 6, 7, 8, 9]\n"
     ]
    },
    {
     "data": {
      "image/png": "[encoded data removed]",
      "text/plain": [
       "<Figure size 864x216 with 6 Axes>"
      ]
     },
     "metadata": {
      "needs_background": "light"
     },
     "output_type": "display_data"
    }
   ],
   "source": [
    "import matplotlib.pyplot as plt\n",
    "from sklearn.metrics import precision_score\n",
    "from sklearn.metrics import recall_score\n",
    "cmx= confusion_matrix(y_expect, y_predB)\n",
    "from mpl_toolkits.axes_grid1 import make_axes_locatable\n",
    " \n",
    "def plot_confusion_matrix(cmx, vmax1=None, vmax2=None, vmax3=None):\n",
    "    cmx_norm = 100*cmx / cmx.sum(axis=1, keepdims=True)\n",
    "    cmx_zero_diag = cmx_norm.copy()\n",
    " \n",
    "    np.fill_diagonal(cmx_zero_diag, 0)\n",
    " \n",
    "    fig, ax = plt.subplots(ncols=3)\n",
    "    fig.set_size_inches(12, 3)\n",
    "    [a.set_xticks(range(6)) for a in ax]\n",
    "    [a.set_yticks(range(6)) for a in ax]\n",
    " \n",
    "    im1 = ax[0].imshow(cmx, vmax=vmax1)\n",
    "    ax[0].set_title('as is')\n",
    "    im2 = ax[1].imshow(cmx_norm, vmax=vmax2)\n",
    "    ax[1].set_title('%')\n",
    "    im3 = ax[2].imshow(cmx_zero_diag, vmax=vmax3)\n",
    "    ax[2].set_title('% and 0 diagonal')\n",
    " \n",
    "    dividers = [make_axes_locatable(a) for a in ax]\n",
    "    cax1, cax2, cax3 = [divider.append_axes(\"right\", size=\"5%\", pad=0.1)\n",
    "                        for divider in dividers]\n",
    " \n",
    "    fig.colorbar(im1, cax=cax1)\n",
    "    fig.colorbar(im2, cax=cax2)\n",
    "    fig.colorbar(im3, cax=cax3)\n",
    "    fig.tight_layout()\n",
    " \n",
    "plot_confusion_matrix(cmx)\n",
    " \n",
    "# the types appear in this order\n",
    "print('\\n', sorted(np.unique(y_expect)))"
   ]
  },
  {
   "cell_type": "code",
   "execution_count": 131,
   "metadata": {},
   "outputs": [
    {
     "name": "stdout",
     "output_type": "stream",
     "text": [
      "Accuracy: 0.2361438679245283\n"
     ]
    }
   ],
   "source": [
    "from sklearn.naive_bayes import GaussianNB\n",
    "# run NB - Gaussian\n",
    "GausNB = GaussianNB()\n",
    "GausNB.fit(X_train, y_train)\n",
    "y_predG = GausNB.predict(X_test)\n",
    "print(\"Accuracy:\",accuracy_score(y_expect, y_predG))"
   ]
  },
  {
   "cell_type": "code",
   "execution_count": 132,
   "metadata": {},
   "outputs": [
    {
     "name": "stdout",
     "output_type": "stream",
     "text": [
      "Recall: [0.7260274  0.21867008 0.16240409 0.22678186 0.18041958 0.17241379\n",
      " 0.68992248 0.51898734 0.24873096 0.25882353]\n"
     ]
    }
   ],
   "source": [
    "# Recall\n",
    "from sklearn.metrics import recall_score\n",
    "print(\"Recall:\",recall_score(y_expect, y_predG, average=None))"
   ]
  },
  {
   "cell_type": "code",
   "execution_count": 133,
   "metadata": {},
   "outputs": [
    {
     "name": "stdout",
     "output_type": "stream",
     "text": [
      "Precision: [0.15229885 0.38952164 0.42474916 0.44117647 0.40694006 0.75\n",
      " 0.08098271 0.08686441 0.75384615 0.23157895]\n"
     ]
    }
   ],
   "source": [
    "# Precision\n",
    "from sklearn.metrics import precision_score\n",
    "print(\"Precision:\",precision_score(y_expect, y_predG, average=None))"
   ]
  },
  {
   "cell_type": "code",
   "execution_count": 134,
   "metadata": {},
   "outputs": [
    {
     "name": "stdout",
     "output_type": "stream",
     "text": [
      "[[ 33   8  17   9   5   0   1   0   0   0]\n",
      " [167 129 121 104 209   1  28   5   6  12]\n",
      " [ 51  61 235  99 304   2  12   5   1  12]\n",
      " [ 32  38  62 196 129   0   2   0   1   3]\n",
      " [ 17  55  42 116 456   0  16   0   0  13]\n",
      " [  0   0   6   0   0  66   0   3  10   2]\n",
      " [  0   1   4  38   1  36   4  24  15   6]\n",
      " [  0   0   0  11   1  17   1  40   3   6]\n",
      " [  1   0   3  11   2  66  15  36  49  14]\n",
      " [  0   4  15  12   4  23   0   6   1  20]]\n"
     ]
    }
   ],
   "source": [
    "print(confusion_matrix(y_expect, y_pred))"
   ]
  },
  {
   "cell_type": "code",
   "execution_count": 135,
   "metadata": {},
   "outputs": [
    {
     "name": "stdout",
     "output_type": "stream",
     "text": [
      "\n",
      " [0, 1, 2, 3, 4, 5, 6, 7, 8, 9]\n"
     ]
    },
    {
     "data": {
      "image/png": "[encoded data removed]",
      "text/plain": [
       "<Figure size 864x216 with 6 Axes>"
      ]
     },
     "metadata": {
      "needs_background": "light"
     },
     "output_type": "display_data"
    }
   ],
   "source": [
    "import matplotlib.pyplot as plt\n",
    "from sklearn.metrics import precision_score\n",
    "from sklearn.metrics import recall_score\n",
    "cmx= confusion_matrix(y_expect, y_predG)\n",
    "from mpl_toolkits.axes_grid1 import make_axes_locatable\n",
    " \n",
    "def plot_confusion_matrix(cmx, vmax1=None, vmax2=None, vmax3=None):\n",
    "    cmx_norm = 100*cmx / cmx.sum(axis=1, keepdims=True)\n",
    "    cmx_zero_diag = cmx_norm.copy()\n",
    " \n",
    "    np.fill_diagonal(cmx_zero_diag, 0)\n",
    " \n",
    "    fig, ax = plt.subplots(ncols=3)\n",
    "    fig.set_size_inches(12, 3)\n",
    "    [a.set_xticks(range(6)) for a in ax]\n",
    "    [a.set_yticks(range(6)) for a in ax]\n",
    " \n",
    "    im1 = ax[0].imshow(cmx, vmax=vmax1)\n",
    "    ax[0].set_title('as is')\n",
    "    im2 = ax[1].imshow(cmx_norm, vmax=vmax2)\n",
    "    ax[1].set_title('%')\n",
    "    im3 = ax[2].imshow(cmx_zero_diag, vmax=vmax3)\n",
    "    ax[2].set_title('% and 0 diagonal')\n",
    " \n",
    "    dividers = [make_axes_locatable(a) for a in ax]\n",
    "    cax1, cax2, cax3 = [divider.append_axes(\"right\", size=\"5%\", pad=0.1)\n",
    "                        for divider in dividers]\n",
    " \n",
    "    fig.colorbar(im1, cax=cax1)\n",
    "    fig.colorbar(im2, cax=cax2)\n",
    "    fig.colorbar(im3, cax=cax3)\n",
    "    fig.tight_layout()\n",
    " \n",
    "plot_confusion_matrix(cmx)\n",
    " \n",
    "# the types appear in this order\n",
    "print('\\n', sorted(np.unique(y_expect)))"
   ]
  },
  {
   "cell_type": "code",
   "execution_count": 136,
   "metadata": {},
   "outputs": [
    {
     "data": {
      "text/plain": [
       "(3392,)"
      ]
     },
     "execution_count": 136,
     "metadata": {},
     "output_type": "execute_result"
    }
   ],
   "source": [
    "y_test.shape"
   ]
  },
  {
   "cell_type": "code",
   "execution_count": null,
   "metadata": {},
   "outputs": [],
   "source": []
  }
 ],
 "metadata": {
  "kernelspec": {
   "display_name": "Python 3",
   "language": "python",
   "name": "python3"
  },
  "language_info": {
   "codemirror_mode": {
    "name": "ipython",
    "version": 3
   },
   "file_extension": ".py",
   "mimetype": "text/x-python",
   "name": "python",
   "nbconvert_exporter": "python",
   "pygments_lexer": "ipython3",
   "version": "3.8.5"
  }
 },
 "nbformat": 4,
 "nbformat_minor": 4
}
