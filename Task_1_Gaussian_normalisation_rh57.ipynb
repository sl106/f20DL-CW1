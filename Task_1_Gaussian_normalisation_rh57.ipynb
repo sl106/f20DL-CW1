{
 "cells": [
  {
   "cell_type": "code",
   "execution_count": 2,
   "metadata": {},
   "outputs": [],
   "source": [
    "import pandas as pd\n",
    "import numpy as np\n",
    "from sklearn import preprocessing\n",
    "from sklearn.model_selection import train_test_split\n",
    "from sklearn.utils import shuffle\n",
    "#Import files\n",
    "X = pd.read_csv(\"/Users/Hookay/Desktop/Weka/Road signs/dataprep/Python/x_train_gr_smpl.csv\")\n",
    "Y = pd.read_csv(\"/Users/Hookay/Desktop/Weka/Road signs/dataprep/Python/y_train_smpl.csv\")"
   ]
  },
  {
   "cell_type": "code",
   "execution_count": 3,
   "metadata": {},
   "outputs": [
    {
     "data": {
      "text/html": [
       "<div>\n",
       "<style scoped>\n",
       "    .dataframe tbody tr th:only-of-type {\n",
       "        vertical-align: middle;\n",
       "    }\n",
       "\n",
       "    .dataframe tbody tr th {\n",
       "        vertical-align: top;\n",
       "    }\n",
       "\n",
       "    .dataframe thead th {\n",
       "        text-align: right;\n",
       "    }\n",
       "</style>\n",
       "<table border=\"1\" class=\"dataframe\">\n",
       "  <thead>\n",
       "    <tr style=\"text-align: right;\">\n",
       "      <th></th>\n",
       "      <th>0</th>\n",
       "    </tr>\n",
       "  </thead>\n",
       "  <tbody>\n",
       "    <tr>\n",
       "      <th>8219</th>\n",
       "      <td>5</td>\n",
       "    </tr>\n",
       "    <tr>\n",
       "      <th>533</th>\n",
       "      <td>1</td>\n",
       "    </tr>\n",
       "    <tr>\n",
       "      <th>7844</th>\n",
       "      <td>4</td>\n",
       "    </tr>\n",
       "    <tr>\n",
       "      <th>1105</th>\n",
       "      <td>1</td>\n",
       "    </tr>\n",
       "    <tr>\n",
       "      <th>7550</th>\n",
       "      <td>4</td>\n",
       "    </tr>\n",
       "    <tr>\n",
       "      <th>...</th>\n",
       "      <td>...</td>\n",
       "    </tr>\n",
       "    <tr>\n",
       "      <th>4859</th>\n",
       "      <td>3</td>\n",
       "    </tr>\n",
       "    <tr>\n",
       "      <th>919</th>\n",
       "      <td>1</td>\n",
       "    </tr>\n",
       "    <tr>\n",
       "      <th>500</th>\n",
       "      <td>1</td>\n",
       "    </tr>\n",
       "    <tr>\n",
       "      <th>4517</th>\n",
       "      <td>2</td>\n",
       "    </tr>\n",
       "    <tr>\n",
       "      <th>5925</th>\n",
       "      <td>3</td>\n",
       "    </tr>\n",
       "  </tbody>\n",
       "</table>\n",
       "<p>9690 rows × 1 columns</p>\n",
       "</div>"
      ],
      "text/plain": [
       "      0\n",
       "8219  5\n",
       "533   1\n",
       "7844  4\n",
       "1105  1\n",
       "7550  4\n",
       "...  ..\n",
       "4859  3\n",
       "919   1\n",
       "500   1\n",
       "4517  2\n",
       "5925  3\n",
       "\n",
       "[9690 rows x 1 columns]"
      ]
     },
     "execution_count": 3,
     "metadata": {},
     "output_type": "execute_result"
    }
   ],
   "source": [
    "#shuffle the files in the same order\n",
    "shuffle(X, random_state = 30)\n",
    "shuffle(Y, random_state = 30)"
   ]
  },
  {
   "cell_type": "code",
   "execution_count": 4,
   "metadata": {},
   "outputs": [],
   "source": [
    "#normalise the data\n",
    "Xn = preprocessing.normalize(X)"
   ]
  },
  {
   "cell_type": "code",
   "execution_count": 5,
   "metadata": {},
   "outputs": [],
   "source": [
    "#make sure Y is in a row \n",
    "Y=np.ravel(Y)"
   ]
  },
  {
   "cell_type": "code",
   "execution_count": 6,
   "metadata": {},
   "outputs": [],
   "source": [
    "#create the train and test data\n",
    "X_train, X_test, y_train, y_test = train_test_split(Xn, Y, test_size=.3, random_state=30)"
   ]
  },
  {
   "cell_type": "code",
   "execution_count": 8,
   "metadata": {},
   "outputs": [
    {
     "name": "stdout",
     "output_type": "stream",
     "text": [
      "Accuracy: 0.36635706914344685\n",
      "Recall: [0.64       0.21502209 0.30421217 0.4248366  0.53420195 0.75384615\n",
      " 0.26530612 0.15151515 0.34640523 0.37804878]\n",
      "Precision: [0.08311688 0.49829352 0.42951542 0.35583942 0.41414141 0.245\n",
      " 0.49056604 0.27027027 0.62352941 0.51666667]\n",
      "[[ 32   7   3   6   2   0   0   0   0   0]\n",
      " [192 146 129  75 116   5   3   0   4   9]\n",
      " [ 78  61 195  91 197   7   3   0   4   5]\n",
      " [ 22  32  47 195 148   2   8   2   2   1]\n",
      " [ 52  42  79  99 328   4   3   1   0   6]\n",
      " [  0   0   0   4   0  49   4   3   4   1]\n",
      " [  5   1   0  24   0  36  26   4   1   1]\n",
      " [  0   0   0  14   0  25   1  10  13   3]\n",
      " [  4   3   0  14   0  55   4  17  53   3]\n",
      " [  0   1   1  26   1  17   1   0   4  31]]\n",
      "\n",
      " [0, 1, 2, 3, 4, 5, 6, 7, 8, 9]\n"
     ]
    },
    {
     "data": {
      "image/png": "[encoded data removed]",
      "text/plain": [
       "<Figure size 864x216 with 6 Axes>"
      ]
     },
     "metadata": {
      "needs_background": "light"
     },
     "output_type": "display_data"
    }
   ],
   "source": [
    "#Test original normalised data with Gaussian NB\n",
    "y_expect = y_test\n",
    "from sklearn.metrics import accuracy_score\n",
    "from sklearn.naive_bayes import GaussianNB\n",
    "# run NB - Gaussian\n",
    "GausNB = GaussianNB()\n",
    "GausNB.fit(X_train, y_train)\n",
    "y_predG = GausNB.predict(X_test)\n",
    "\n",
    "#Accuracy\n",
    "print(\"Accuracy:\",accuracy_score(y_expect, y_predG))\n",
    "\n",
    "# Recall\n",
    "from sklearn.metrics import recall_score\n",
    "print(\"Recall:\",recall_score(y_expect, y_predG, average=None))\n",
    "\n",
    "# Precision\n",
    "from sklearn.metrics import precision_score\n",
    "print(\"Precision:\",precision_score(y_expect, y_predG, average=None))\n",
    "\n",
    "#Confusion matrix\n",
    "from sklearn.metrics import confusion_matrix\n",
    "print( confusion_matrix(y_expect, y_predG))\n",
    "from sklearn.metrics import confusion_matrix\n",
    "import matplotlib.pyplot as plt\n",
    "from sklearn.metrics import precision_score\n",
    "from sklearn.metrics import recall_score\n",
    "cmx= confusion_matrix(y_expect, y_predG)\n",
    "from mpl_toolkits.axes_grid1 import make_axes_locatable\n",
    "\n",
    "\n",
    "def plot_confusion_matrix(cmx, vmax1=None, vmax2=None, vmax3=None):\n",
    "    cmx_norm = 100*cmx / cmx.sum(axis=1, keepdims=True)\n",
    "    cmx_zero_diag = cmx_norm.copy()\n",
    " \n",
    "    np.fill_diagonal(cmx_zero_diag, 0)\n",
    " \n",
    "    fig, ax = plt.subplots(ncols=3)\n",
    "    fig.set_size_inches(12, 3)\n",
    "    [a.set_xticks(range(6)) for a in ax]\n",
    "    [a.set_yticks(range(6)) for a in ax]\n",
    " \n",
    "    im1 = ax[0].imshow(cmx, vmax=vmax1)\n",
    "    ax[0].set_title('as is')\n",
    "    im2 = ax[1].imshow(cmx_norm, vmax=vmax2)\n",
    "    ax[1].set_title('%')\n",
    "    im3 = ax[2].imshow(cmx_zero_diag, vmax=vmax3)\n",
    "    ax[2].set_title('% and 0 diagonal')\n",
    " \n",
    "    dividers = [make_axes_locatable(a) for a in ax]\n",
    "    cax1, cax2, cax3 = [divider.append_axes(\"right\", size=\"5%\", pad=0.1)\n",
    "                        for divider in dividers]\n",
    " \n",
    "    fig.colorbar(im1, cax=cax1)\n",
    "    fig.colorbar(im2, cax=cax2)\n",
    "    fig.colorbar(im3, cax=cax3)\n",
    "    fig.tight_layout()\n",
    " \n",
    "plot_confusion_matrix(cmx)\n",
    " \n",
    "# the types appear in this order\n",
    "print('\\n', sorted(np.unique(y_expect)))"
   ]
  },
  {
   "cell_type": "code",
   "execution_count": 9,
   "metadata": {},
   "outputs": [],
   "source": [
    "#Create the three data set based on the finding of correlation top 5, 10, 20\n",
    "five = X[['580','581','582','629','747','793','792','794','795','796','841','842','935','981','982','983','1029','1030','1031','1077','1078','1086','1122','1134','1176','1215','1216','1218','1219','1224','1263','1264','1265','1266','1313','1314','1315','1320','1362','1564','1612']]\n",
    "\n",
    "ten = X[['533','532','579','580','581','582','628','629','699','744','745','746','747','793','792','794','795','796','841','842','934','935','981','982','983','1029','1030','1031','1038','1077','1078','1086','1087','1122','1123','1128','1134','1135','1167','1168','1171','1172','1176','1182','1215','1216','1217','1218','1219','1221','1224','1263','1264','1265','1266','1272','1311','1312','1313','1314','1315','1320','1321','1361','1362','1366','1409','1410','1414','1461','1561','1562','1564', '1610','1612','2095','2096','2138','2139','2140']] \n",
    "\n",
    "twenty = X[['435','436','482','483','484','485','531','532','533','534','579','580','581','582','627','628','629','675','698','699','700','743','744','745','746','747','748','791','792','793','794','795','796', '840','841','842','934','935','981','982','983','1021','1029','1030','1031','1038','1043','1069','1077','1078','1085','1086','1087','1119','1120','1122','1123','1125','1128','1133','1134','1135','1167','1168','1170','1171','1172','1176','1181','1182','1183','1214','1215','1216','1217','1218','1219','1220','1221','1224','1230','1262','1263','1264','1265','1266','1267','1269','1272','1310','1311','1312','1313','1314','1315','1318','1320','1321','1360','1361','1362','1363','1366','1408','1409','1410','1413','1414','1457','1458','1461','1505','1506','1507','1508','1509','1510','1511', '1561','1562','1564', '1610','1612','2049','2050', '2078', '2094','2095', '2097','2096','2138','2139','2140', '2141', '2142', '2186', '2269','2270']]\n"
   ]
  },
  {
   "cell_type": "code",
   "execution_count": 10,
   "metadata": {},
   "outputs": [],
   "source": [
    "#normalise data\n",
    "fiven = preprocessing.normalize(five)\n",
    "tenn =  preprocessing.normalize(ten)\n",
    "twenty =  preprocessing.normalize(twenty)"
   ]
  },
  {
   "cell_type": "code",
   "execution_count": 11,
   "metadata": {},
   "outputs": [],
   "source": [
    "#create train and test data fo each\n",
    "fX_train, fX_test, fy_train, fy_test = train_test_split(fiven, Y, test_size=.29, random_state=17)\n",
    "tX_train, tX_test, ty_train, ty_test = train_test_split(tenn, Y, test_size=.29, random_state=17)\n",
    "wX_train, wX_test, wy_train, wy_test = train_test_split(twenty, Y, test_size=.29, random_state=17)"
   ]
  },
  {
   "cell_type": "code",
   "execution_count": 12,
   "metadata": {},
   "outputs": [
    {
     "name": "stdout",
     "output_type": "stream",
     "text": [
      "Accuracy: 0.6858769121309143\n",
      "Recall: [0.54385965 0.7171875  0.77604977 0.69882353 0.64902998 0.84126984\n",
      " 0.37288136 0.66666667 0.71974522 0.30952381]\n",
      "Precision: [0.36046512 0.81964286 0.69305556 0.62133891 0.80701754 0.35810811\n",
      " 0.59459459 0.56716418 0.64571429 0.55319149]\n",
      "[[ 31   1   0   2  23   0   0   0   0   0]\n",
      " [  9 459  75  40  41   5   1   7   0   3]\n",
      " [  1  41 499  52  17  18   4   6   1   4]\n",
      " [  5   7  85 297   4  15   2   0   8   2]\n",
      " [ 40  51  44  41 368   6   1  13   1   2]\n",
      " [  0   0   5   2   0  53   1   0   0   2]\n",
      " [  0   0   8  13   1  18  44   0  33   1]\n",
      " [  0   0   1   6   0   8   3  38   0   1]\n",
      " [  0   1   2   9   1   8  14   3 113   6]\n",
      " [  0   0   1  16   1  17   4   0  19  26]]\n",
      "\n",
      " [0, 1, 2, 3, 4, 5, 6, 7, 8, 9]\n"
     ]
    },
    {
     "data": {
      "image/png": "[encoded data removed]",
      "text/plain": [
       "<Figure size 864x216 with 6 Axes>"
      ]
     },
     "metadata": {
      "needs_background": "light"
     },
     "output_type": "display_data"
    }
   ],
   "source": [
    "# Test top 5 normalised data with Gaussian\n",
    "\n",
    "#Gaussian\n",
    "from sklearn.metrics import accuracy_score\n",
    "from sklearn.naive_bayes import GaussianNB\n",
    "fy_expect = fy_test\n",
    "# run NB - Gaussian\n",
    "GausNB = GaussianNB()\n",
    "GausNB.fit(fX_train, fy_train)\n",
    "fy_predG = GausNB.predict(fX_test)\n",
    "#Accuracy\n",
    "print(\"Accuracy:\",accuracy_score(fy_expect, fy_predG))\n",
    "# Recall\n",
    "from sklearn.metrics import recall_score\n",
    "print(\"Recall:\",recall_score(fy_expect, fy_predG, average=None))\n",
    "# Precision\n",
    "from sklearn.metrics import precision_score\n",
    "print(\"Precision:\",precision_score(fy_expect, fy_predG, average=None))\n",
    "\n",
    "#Confusion matrix\n",
    "print( confusion_matrix(fy_expect, fy_predG))\n",
    "\n",
    "cmx= confusion_matrix(fy_expect, fy_predG)\n",
    "\n",
    "def plot_confusion_matrix(cmx, vmax1=None, vmax2=None, vmax3=None):\n",
    "    cmx_norm = 100*cmx / cmx.sum(axis=1, keepdims=True)\n",
    "    cmx_zero_diag = cmx_norm.copy()\n",
    " \n",
    "    np.fill_diagonal(cmx_zero_diag, 0)\n",
    " \n",
    "    fig, ax = plt.subplots(ncols=3)\n",
    "    fig.set_size_inches(12, 3)\n",
    "    [a.set_xticks(range(6)) for a in ax]\n",
    "    [a.set_yticks(range(6)) for a in ax]\n",
    " \n",
    "    im1 = ax[0].imshow(cmx, vmax=vmax1)\n",
    "    ax[0].set_title('as is')\n",
    "    im2 = ax[1].imshow(cmx_norm, vmax=vmax2)\n",
    "    ax[1].set_title('%')\n",
    "    im3 = ax[2].imshow(cmx_zero_diag, vmax=vmax3)\n",
    "    ax[2].set_title('% and 0 diagonal')\n",
    " \n",
    "    dividers = [make_axes_locatable(a) for a in ax]\n",
    "    cax1, cax2, cax3 = [divider.append_axes(\"right\", size=\"5%\", pad=0.1)\n",
    "                        for divider in dividers]\n",
    " \n",
    "    fig.colorbar(im1, cax=cax1)\n",
    "    fig.colorbar(im2, cax=cax2)\n",
    "    fig.colorbar(im3, cax=cax3)\n",
    "    fig.tight_layout()\n",
    " \n",
    "plot_confusion_matrix(cmx)\n",
    " \n",
    "# the types appear in this order\n",
    "print('\\n', sorted(np.unique(fy_expect)))"
   ]
  },
  {
   "cell_type": "code",
   "execution_count": 14,
   "metadata": {},
   "outputs": [
    {
     "name": "stdout",
     "output_type": "stream",
     "text": [
      "Accuracy: 0.6954820348630381\n",
      "Recall: [0.68421053 0.740625   0.75272162 0.56       0.74779541 0.88888889\n",
      " 0.49152542 0.68421053 0.7133758  0.36904762]\n",
      "Precision: [0.41052632 0.83597884 0.68847795 0.56398104 0.82651072 0.40875912\n",
      " 0.59793814 0.84782609 0.66272189 0.5       ]\n",
      "[[ 39   3   1   3  11   0   0   0   0   0]\n",
      " [  1 474  59  44  48   8   1   1   0   4]\n",
      " [  1  51 484  57  23  14   7   1   2   3]\n",
      " [  8  16 138 238   5   7   6   0   3   4]\n",
      " [ 46  21   5  41 424  22   1   3   0   4]\n",
      " [  0   0   4   0   1  56   0   1   0   1]\n",
      " [  0   0   8  15   0  14  58   0  20   3]\n",
      " [  0   0   1   5   0  10   1  39   0   1]\n",
      " [  0   2   3   7   0   6  15   1 112  11]\n",
      " [  0   0   0  12   1   0   8   0  32  31]]\n",
      "\n",
      " [0, 1, 2, 3, 4, 5, 6, 7, 8, 9]\n"
     ]
    },
    {
     "data": {
      "image/png": "[encoded data removed]",
      "text/plain": [
       "<Figure size 864x216 with 6 Axes>"
      ]
     },
     "metadata": {
      "needs_background": "light"
     },
     "output_type": "display_data"
    }
   ],
   "source": [
    "# Test top 10 normalised data with Gaussian\n",
    "\n",
    "#Gaussian\n",
    "from sklearn.metrics import accuracy_score\n",
    "from sklearn.naive_bayes import GaussianNB\n",
    "ty_expect = ty_test\n",
    "# run NB - Gaussian\n",
    "GausNB = GaussianNB()\n",
    "GausNB.fit(tX_train, ty_train)\n",
    "ty_predG = GausNB.predict(tX_test)\n",
    "#Accuracy\n",
    "print(\"Accuracy:\",accuracy_score(ty_expect, ty_predG))\n",
    "# Recall\n",
    "from sklearn.metrics import recall_score\n",
    "print(\"Recall:\",recall_score(ty_expect, ty_predG, average=None))\n",
    "# Precision\n",
    "from sklearn.metrics import precision_score\n",
    "print(\"Precision:\",precision_score(ty_expect, ty_predG, average=None))\n",
    "\n",
    "#Confusion matrix\n",
    "print( confusion_matrix(ty_expect, ty_predG))\n",
    "\n",
    "cmx= confusion_matrix(ty_expect, ty_predG)\n",
    "\n",
    "def plot_confusion_matrix(cmx, vmax1=None, vmax2=None, vmax3=None):\n",
    "    cmx_norm = 100*cmx / cmx.sum(axis=1, keepdims=True)\n",
    "    cmx_zero_diag = cmx_norm.copy()\n",
    " \n",
    "    np.fill_diagonal(cmx_zero_diag, 0)\n",
    " \n",
    "    fig, ax = plt.subplots(ncols=3)\n",
    "    fig.set_size_inches(12, 3)\n",
    "    [a.set_xticks(range(6)) for a in ax]\n",
    "    [a.set_yticks(range(6)) for a in ax]\n",
    " \n",
    "    im1 = ax[0].imshow(cmx, vmax=vmax1)\n",
    "    ax[0].set_title('as is')\n",
    "    im2 = ax[1].imshow(cmx_norm, vmax=vmax2)\n",
    "    ax[1].set_title('%')\n",
    "    im3 = ax[2].imshow(cmx_zero_diag, vmax=vmax3)\n",
    "    ax[2].set_title('% and 0 diagonal')\n",
    " \n",
    "    dividers = [make_axes_locatable(a) for a in ax]\n",
    "    cax1, cax2, cax3 = [divider.append_axes(\"right\", size=\"5%\", pad=0.1)\n",
    "                        for divider in dividers]\n",
    " \n",
    "    fig.colorbar(im1, cax=cax1)\n",
    "    fig.colorbar(im2, cax=cax2)\n",
    "    fig.colorbar(im3, cax=cax3)\n",
    "    fig.tight_layout()\n",
    " \n",
    "plot_confusion_matrix(cmx)\n",
    " \n",
    "# the types appear in this order\n",
    "print('\\n', sorted(np.unique(ty_expect)))"
   ]
  },
  {
   "cell_type": "code",
   "execution_count": 15,
   "metadata": {},
   "outputs": [
    {
     "name": "stdout",
     "output_type": "stream",
     "text": [
      "Accuracy: 0.6527926004980434\n",
      "Recall: [0.73684211 0.71875    0.67807154 0.47764706 0.72663139 0.96825397\n",
      " 0.33050847 0.68421053 0.68789809 0.41666667]\n",
      "Precision: [0.46153846 0.79861111 0.66871166 0.47764706 0.74234234 0.44202899\n",
      " 0.609375   0.86666667 0.58064516 0.44303797]\n",
      "[[ 42   5   1   3   6   0   0   0   0   0]\n",
      " [  1 460  35  51  70   6   0   3   4  10]\n",
      " [  0  55 436  76  53  12   3   1   3   4]\n",
      " [  8  18 162 203  14   3   2   1   8   6]\n",
      " [ 40  34   7  48 412  14   2   1   6   3]\n",
      " [  0   0   0   0   0  61   1   0   0   1]\n",
      " [  0   0   9  23   0  14  39   0  30   3]\n",
      " [  0   0   0   4   0  12   1  39   0   1]\n",
      " [  0   2   2   4   0  11  14   0 108  16]\n",
      " [  0   2   0  13   0   5   2   0  27  35]]\n",
      "\n",
      " [0, 1, 2, 3, 4, 5, 6, 7, 8, 9]\n"
     ]
    },
    {
     "data": {
      "image/png": "[encoded data removed]",
      "text/plain": [
       "<Figure size 864x216 with 6 Axes>"
      ]
     },
     "metadata": {
      "needs_background": "light"
     },
     "output_type": "display_data"
    }
   ],
   "source": [
    "# Test top 5 normalised data with Gaussian\n",
    "\n",
    "#Gaussian\n",
    "from sklearn.metrics import accuracy_score\n",
    "from sklearn.naive_bayes import GaussianNB\n",
    "wy_expect = wy_test\n",
    "# run NB - Gaussian\n",
    "GausNB = GaussianNB()\n",
    "GausNB.fit(wX_train, wy_train)\n",
    "wy_predG = GausNB.predict(wX_test)\n",
    "#Accuracy\n",
    "print(\"Accuracy:\",accuracy_score(wy_expect, wy_predG))\n",
    "# Recall\n",
    "from sklearn.metrics import recall_score\n",
    "print(\"Recall:\",recall_score(wy_expect, wy_predG, average=None))\n",
    "# Precision\n",
    "from sklearn.metrics import precision_score\n",
    "print(\"Precision:\",precision_score(wy_expect, wy_predG, average=None))\n",
    "\n",
    "#Confusion matrix\n",
    "print( confusion_matrix(wy_expect, wy_predG))\n",
    "\n",
    "cmx= confusion_matrix(wy_expect, wy_predG)\n",
    "\n",
    "def plot_confusion_matrix(cmx, vmax1=None, vmax2=None, vmax3=None):\n",
    "    cmx_norm = 100*cmx / cmx.sum(axis=1, keepdims=True)\n",
    "    cmx_zero_diag = cmx_norm.copy()\n",
    " \n",
    "    np.fill_diagonal(cmx_zero_diag, 0)\n",
    " \n",
    "    fig, ax = plt.subplots(ncols=3)\n",
    "    fig.set_size_inches(12, 3)\n",
    "    [a.set_xticks(range(6)) for a in ax]\n",
    "    [a.set_yticks(range(6)) for a in ax]\n",
    " \n",
    "    im1 = ax[0].imshow(cmx, vmax=vmax1)\n",
    "    ax[0].set_title('as is')\n",
    "    im2 = ax[1].imshow(cmx_norm, vmax=vmax2)\n",
    "    ax[1].set_title('%')\n",
    "    im3 = ax[2].imshow(cmx_zero_diag, vmax=vmax3)\n",
    "    ax[2].set_title('% and 0 diagonal')\n",
    " \n",
    "    dividers = [make_axes_locatable(a) for a in ax]\n",
    "    cax1, cax2, cax3 = [divider.append_axes(\"right\", size=\"5%\", pad=0.1)\n",
    "                        for divider in dividers]\n",
    " \n",
    "    fig.colorbar(im1, cax=cax1)\n",
    "    fig.colorbar(im2, cax=cax2)\n",
    "    fig.colorbar(im3, cax=cax3)\n",
    "    fig.tight_layout()\n",
    " \n",
    "plot_confusion_matrix(cmx)\n",
    " \n",
    "# the types appear in this order\n",
    "print('\\n', sorted(np.unique(wy_expect)))"
   ]
  },
  {
   "cell_type": "code",
   "execution_count": null,
   "metadata": {},
   "outputs": [],
   "source": []
  }
 ],
 "metadata": {
  "kernelspec": {
   "display_name": "Python 3",
   "language": "python",
   "name": "python3"
  },
  "language_info": {
   "codemirror_mode": {
    "name": "ipython",
    "version": 3
   },
   "file_extension": ".py",
   "mimetype": "text/x-python",
   "name": "python",
   "nbconvert_exporter": "python",
   "pygments_lexer": "ipython3",
   "version": "3.8.5"
  }
 },
 "nbformat": 4,
 "nbformat_minor": 4
}
